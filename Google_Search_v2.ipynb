{
  "nbformat": 4,
  "nbformat_minor": 0,
  "metadata": {
    "colab": {
      "provenance": [],
      "authorship_tag": "ABX9TyNXXapVOIqQVVk/pFYFB47o",
      "include_colab_link": true
    },
    "kernelspec": {
      "name": "python3",
      "display_name": "Python 3"
    },
    "language_info": {
      "name": "python"
    }
  },
  "cells": [
    {
      "cell_type": "markdown",
      "metadata": {
        "id": "view-in-github",
        "colab_type": "text"
      },
      "source": [
        "<a href=\"https://colab.research.google.com/github/stevemorrisbi/Google_Search_Function/blob/main/Google_Search_v2.ipynb\" target=\"_parent\"><img src=\"https://colab.research.google.com/assets/colab-badge.svg\" alt=\"Open In Colab\"/></a>"
      ]
    },
    {
      "cell_type": "code",
      "execution_count": null,
      "metadata": {
        "colab": {
          "base_uri": "https://localhost:8080/",
          "height": 429
        },
        "id": "qRWaxf1zPwBY",
        "outputId": "9c912dc8-cbc1-4ce0-a185-37644022423d"
      },
      "outputs": [
        {
          "output_type": "stream",
          "name": "stdout",
          "text": [
            "Collecting googlesearch-python\n",
            "  Downloading googlesearch-python-1.2.3.tar.gz (3.9 kB)\n",
            "  Preparing metadata (setup.py) ... \u001b[?25l\u001b[?25hdone\n",
            "Requirement already satisfied: beautifulsoup4>=4.9 in /usr/local/lib/python3.10/dist-packages (from googlesearch-python) (4.11.2)\n",
            "Requirement already satisfied: requests>=2.20 in /usr/local/lib/python3.10/dist-packages (from googlesearch-python) (2.31.0)\n",
            "Requirement already satisfied: soupsieve>1.2 in /usr/local/lib/python3.10/dist-packages (from beautifulsoup4>=4.9->googlesearch-python) (2.5)\n",
            "Requirement already satisfied: charset-normalizer<4,>=2 in /usr/local/lib/python3.10/dist-packages (from requests>=2.20->googlesearch-python) (3.3.2)\n",
            "Requirement already satisfied: idna<4,>=2.5 in /usr/local/lib/python3.10/dist-packages (from requests>=2.20->googlesearch-python) (3.4)\n",
            "Requirement already satisfied: urllib3<3,>=1.21.1 in /usr/local/lib/python3.10/dist-packages (from requests>=2.20->googlesearch-python) (2.0.7)\n",
            "Requirement already satisfied: certifi>=2017.4.17 in /usr/local/lib/python3.10/dist-packages (from requests>=2.20->googlesearch-python) (2023.7.22)\n",
            "Building wheels for collected packages: googlesearch-python\n",
            "  Building wheel for googlesearch-python (setup.py) ... \u001b[?25l\u001b[?25hdone\n",
            "  Created wheel for googlesearch-python: filename=googlesearch_python-1.2.3-py3-none-any.whl size=4205 sha256=9352a2128a6e090453999b52955e750828d7664a27f62891e2e0ed7f35c7b9fb\n",
            "  Stored in directory: /root/.cache/pip/wheels/98/24/e9/6c225502948c629b01cc895f86406819281ef0da385f3eb669\n",
            "Successfully built googlesearch-python\n",
            "Installing collected packages: googlesearch-python\n",
            "Successfully installed googlesearch-python-1.2.3\n"
          ]
        },
        {
          "output_type": "display_data",
          "data": {
            "application/vnd.colab-display-data+json": {
              "pip_warning": {
                "packages": [
                  "googlesearch"
                ]
              }
            }
          },
          "metadata": {}
        }
      ],
      "source": [
        "pip install googlesearch-python"
      ]
    },
    {
      "cell_type": "code",
      "source": [
        "pip install schedule\n"
      ],
      "metadata": {
        "colab": {
          "base_uri": "https://localhost:8080/"
        },
        "id": "AMpt7kPEuTTP",
        "outputId": "4e3f356a-3da3-477f-e339-34fd40f0ce76"
      },
      "execution_count": 9,
      "outputs": [
        {
          "output_type": "stream",
          "name": "stdout",
          "text": [
            "Collecting schedule\n",
            "  Downloading schedule-1.2.1-py2.py3-none-any.whl (11 kB)\n",
            "Installing collected packages: schedule\n",
            "Successfully installed schedule-1.2.1\n"
          ]
        }
      ]
    },
    {
      "cell_type": "code",
      "source": [
        "import pandas as pd\n",
        "import schedule\n",
        "import time\n",
        "from googlesearch import search\n",
        "from datetime import datetime\n",
        "\n",
        "# Initialize an empty dataframe\n",
        "columns = ['Result_Number', 'Result', 'Run_Date']\n",
        "df = pd.DataFrame(columns=columns)\n",
        "\n",
        "def GoogleSearch(Query):\n",
        "    SearchResults = search(Query, tbs='qdr:d')  # TBS parameter - This looks for the top hits in Google from the last 24 hours\n",
        "\n",
        "    results_list = []\n",
        "    for i, result in enumerate(SearchResults, start=1):\n",
        "        #print(f'Result {i}: {result}')\n",
        "        results_list.append((i, result))\n",
        "\n",
        "        # Stop the loop once it reaches 10\n",
        "        if i >= 10:\n",
        "            break\n",
        "\n",
        "    return results_list\n",
        "\n",
        "def job():\n",
        "    Query = 'UK Soccer Cards'\n",
        "\n",
        "    results = GoogleSearch(Query)\n",
        "\n",
        "    # Append results to the dataframe with the current date\n",
        "    global df\n",
        "    run_date = datetime.now().strftime('%d/%m/%Y')\n",
        "\n",
        "    # Create a dataframe from the results list\n",
        "    result_df = pd.DataFrame(results, columns=['Result_Number', 'Result'])\n",
        "    result_df['Run_Date'] = run_date\n",
        "\n",
        "    # Concatenate the result_df with the main dataframe\n",
        "    df = pd.concat([df, result_df], ignore_index=True)\n",
        "\n",
        "# Schedule the job to run every 24 hours\n",
        "#schedule.every(24).hours.do(job)\n",
        "\n",
        "# Run the scheduled jobs\n",
        "#while True:\n",
        "    #schedule.run_pending()\n",
        "    #time.sleep(24 * 60 * 60)\n"
      ],
      "metadata": {
        "id": "BKtzYNk9rBWw"
      },
      "execution_count": 16,
      "outputs": []
    },
    {
      "cell_type": "code",
      "source": [
        "# Manual run\n",
        "job()\n",
        "\n",
        "# Display the dataframe\n",
        "print(df)"
      ],
      "metadata": {
        "colab": {
          "base_uri": "https://localhost:8080/"
        },
        "id": "j5gMUL8cux8z",
        "outputId": "c7037724-37f5-4886-ad70-34b095011b48"
      },
      "execution_count": 17,
      "outputs": [
        {
          "output_type": "stream",
          "name": "stdout",
          "text": [
            "  Result_Number                                             Result    Run_Date\n",
            "0             1        https://cartophilic-info-exch.blogspot.com/  26/11/2023\n",
            "1             2        https://www.youtube.com/watch?v=k1KmAihcML8  26/11/2023\n",
            "2             3            https://www.ebay.co.uk/itm/186095456483  26/11/2023\n",
            "3             4  https://www.sportingnews.com/us/soccer/news/pr...  26/11/2023\n",
            "4             5   https://www.facebook.com/groups/452916908053599/  26/11/2023\n",
            "5             6  https://www.the-sun.com/sport/9713377/lewis-du...  26/11/2023\n",
            "6             7  https://www.etsy.com/listing/1336149111/tradin...  26/11/2023\n",
            "7             8  https://www.thesun.co.uk/sport/24855711/lewis-...  26/11/2023\n",
            "8             9  https://www.facebook.com/marketplace/toronto/f...  26/11/2023\n",
            "9            10  https://gocards.com/news/2023/11/25/football-c...  26/11/2023\n"
          ]
        }
      ]
    }
  ]
}