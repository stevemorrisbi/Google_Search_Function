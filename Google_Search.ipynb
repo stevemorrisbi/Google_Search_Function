{
  "nbformat": 4,
  "nbformat_minor": 0,
  "metadata": {
    "colab": {
      "provenance": [],
      "authorship_tag": "ABX9TyOmVZxZsYLapxKKl34mgPmy",
      "include_colab_link": true
    },
    "kernelspec": {
      "name": "python3",
      "display_name": "Python 3"
    },
    "language_info": {
      "name": "python"
    }
  },
  "cells": [
    {
      "cell_type": "markdown",
      "metadata": {
        "id": "view-in-github",
        "colab_type": "text"
      },
      "source": [
        "<a href=\"https://colab.research.google.com/github/stevemorrisbi/Google_Search_Function/blob/main/Google_Search.ipynb\" target=\"_parent\"><img src=\"https://colab.research.google.com/assets/colab-badge.svg\" alt=\"Open In Colab\"/></a>"
      ]
    },
    {
      "cell_type": "code",
      "execution_count": null,
      "metadata": {
        "colab": {
          "base_uri": "https://localhost:8080/",
          "height": 429
        },
        "id": "qRWaxf1zPwBY",
        "outputId": "9c912dc8-cbc1-4ce0-a185-37644022423d"
      },
      "outputs": [
        {
          "output_type": "stream",
          "name": "stdout",
          "text": [
            "Collecting googlesearch-python\n",
            "  Downloading googlesearch-python-1.2.3.tar.gz (3.9 kB)\n",
            "  Preparing metadata (setup.py) ... \u001b[?25l\u001b[?25hdone\n",
            "Requirement already satisfied: beautifulsoup4>=4.9 in /usr/local/lib/python3.10/dist-packages (from googlesearch-python) (4.11.2)\n",
            "Requirement already satisfied: requests>=2.20 in /usr/local/lib/python3.10/dist-packages (from googlesearch-python) (2.31.0)\n",
            "Requirement already satisfied: soupsieve>1.2 in /usr/local/lib/python3.10/dist-packages (from beautifulsoup4>=4.9->googlesearch-python) (2.5)\n",
            "Requirement already satisfied: charset-normalizer<4,>=2 in /usr/local/lib/python3.10/dist-packages (from requests>=2.20->googlesearch-python) (3.3.2)\n",
            "Requirement already satisfied: idna<4,>=2.5 in /usr/local/lib/python3.10/dist-packages (from requests>=2.20->googlesearch-python) (3.4)\n",
            "Requirement already satisfied: urllib3<3,>=1.21.1 in /usr/local/lib/python3.10/dist-packages (from requests>=2.20->googlesearch-python) (2.0.7)\n",
            "Requirement already satisfied: certifi>=2017.4.17 in /usr/local/lib/python3.10/dist-packages (from requests>=2.20->googlesearch-python) (2023.7.22)\n",
            "Building wheels for collected packages: googlesearch-python\n",
            "  Building wheel for googlesearch-python (setup.py) ... \u001b[?25l\u001b[?25hdone\n",
            "  Created wheel for googlesearch-python: filename=googlesearch_python-1.2.3-py3-none-any.whl size=4205 sha256=9352a2128a6e090453999b52955e750828d7664a27f62891e2e0ed7f35c7b9fb\n",
            "  Stored in directory: /root/.cache/pip/wheels/98/24/e9/6c225502948c629b01cc895f86406819281ef0da385f3eb669\n",
            "Successfully built googlesearch-python\n",
            "Installing collected packages: googlesearch-python\n",
            "Successfully installed googlesearch-python-1.2.3\n"
          ]
        },
        {
          "output_type": "display_data",
          "data": {
            "application/vnd.colab-display-data+json": {
              "pip_warning": {
                "packages": [
                  "googlesearch"
                ]
              }
            }
          },
          "metadata": {}
        }
      ],
      "source": [
        "pip install googlesearch-python"
      ]
    },
    {
      "cell_type": "code",
      "source": [
        "from googlesearch import search"
      ],
      "metadata": {
        "id": "VWRk--iDP8eG"
      },
      "execution_count": 9,
      "outputs": []
    },
    {
      "cell_type": "code",
      "source": [
        "def GoogleSearch(Query, stop_at):\n",
        "    SearchResults = search(Query)\n",
        "\n",
        "    for i, result in enumerate(SearchResults, start=1):\n",
        "        print(f'Result {i}: {result}')\n",
        "\n",
        "        # Stop the loop once it reaches the value entered as the stop_at_number\n",
        "        if i >= stop_at:\n",
        "            break\n",
        "\n",
        "Query = input('Which term would you like to search for? ')\n",
        "stop_at_number = int(input('How many results to return? '))\n",
        "\n",
        "GoogleSearch(Query, stop_at=stop_at_number)\n"
      ],
      "metadata": {
        "colab": {
          "base_uri": "https://localhost:8080/"
        },
        "id": "B9t0lGpqlRY0",
        "outputId": "aad447fe-65d1-4bcb-8470-e4c1f8a3a6e8"
      },
      "execution_count": 19,
      "outputs": [
        {
          "output_type": "stream",
          "name": "stdout",
          "text": [
            "Which term would you like to search for? best Python study resources\n",
            "How many results to return? 10\n",
            "Result 1: https://i.ytimg.com/vi/XDgtp1VFSYU/maxresdefault.jpg?sa=X&ved=2ahUKEwiAh_uD1OGCAxUyTTABHTT7CooQ_B16BAgBEAI\n",
            "Result 2: https://kinsta.com/blog/python-tutorials/\n",
            "Result 3: https://www.reddit.com/r/learnpython/comments/10k55u9/best_resources_to_study_python/\n",
            "Result 4: https://www.reddit.com/r/learnpython/comments/12c41pz/what_are_the_best_online_resources_for_learning/\n",
            "Result 5: https://www.reddit.com/r/learnpython/comments/tnh3xb/what_is_the_best_python_resource_you_know/\n",
            "Result 6: https://www.reddit.com/r/Python/comments/w2eowi/resources_ive_used_and_still_use_to_learn_python/\n",
            "Result 7: https://www.reddit.com/r/learnpython/comments/15tfgwc/best_sites_to_learn_python/\n",
            "Result 8: https://towardsdatascience.com/top-13-resources-to-learn-python-programming-46f3b0b74b91\n",
            "Result 9: https://www.quora.com/What-are-the-best-resources-to-start-learning-Python\n",
            "Result 10: https://www.quora.com/What-are-some-good-free-resources-to-learn-Python\n"
          ]
        }
      ]
    }
  ]
}